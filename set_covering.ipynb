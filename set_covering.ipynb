{
 "cells": [
  {
   "cell_type": "markdown",
   "metadata": {},
   "source": [
    "# Otimização para o Problema de Recobrimento de Conjuntos"
   ]
  },
  {
   "cell_type": "code",
   "execution_count": 5,
   "metadata": {},
   "outputs": [],
   "source": [
    "from ORLibrary_SPC.fetch_instance import get_data\n",
    "from ORLibrary_SPC.parse_instance import parse_instance\n",
    "\n",
    "import cplex\n",
    "import numpy as np\n",
    "import matplotlib.pyplot as plt"
   ]
  },
  {
   "cell_type": "code",
   "execution_count": null,
   "metadata": {},
   "outputs": [],
   "source": [
    "!pip3 install PyQt5"
   ]
  },
  {
   "cell_type": "markdown",
   "metadata": {},
   "source": [
    "## Modelo sem Relaxações"
   ]
  },
  {
   "cell_type": "code",
   "execution_count": 2,
   "metadata": {},
   "outputs": [],
   "source": [
    "def modelo_MIP(instance_name: str):\n",
    "    \"\"\"\n",
    "    Modelo usando CPLEX para obter uma solução ótima \n",
    "    para problema de recobrimento de conjuntos.\n",
    "\n",
    "    Recebe uma instância no formato encontrado na ORLib e\n",
    "    implementa uma solução gulosa sem relaxações.\n",
    "    \"\"\"\n",
    "\n",
    "    cpx = cplex.Cplex()\n",
    "    cpx.objective.set_sense(cpx.objective.sense.minimize)\n",
    "\n",
    "    # Obtém e processa os dados da instância\n",
    "    # m = # linhas\n",
    "    # n = # colunas\n",
    "    # C = lista de custos para cada coluna\n",
    "    # J = conjunto de comprimento m de listas com as colunas que cobrem cada linha (J[i])\n",
    "\n",
    "    get_data(instance_url=f'http://people.brunel.ac.uk/~mastjjb/jeb/orlib/files/{instance_name}.txt')\n",
    "    m, n, C, J = parse_instance(instance_name=instance_name)\n",
    "\n",
    "    if not m:\n",
    "        print('Instance parsing failed.')\n",
    "        return\n",
    "\n",
    "    # Função objetivo, minimizar os custos (C)\n",
    "    cpx.variables.add(obj=C,\n",
    "                        lb=[0] * n, ub=[1] * n,\n",
    "                        types=[cpx.variables.type.binary] * n,\n",
    "                        names=[f'x_{j}' for j in range(n)])\n",
    "\n",
    "    # Adiciona restrições para cada linha\n",
    "    for i in range(m):\n",
    "        coeff = [1]*len(J[i])\n",
    "        \n",
    "        # Linha i pode ser coberta pelas colunas em J[i]\n",
    "        # Toda linha deve ser coberta por pelo menos 1 coluna\n",
    "        cpx.linear_constraints.add(\n",
    "            lin_expr=[cplex.SparsePair(ind=J[i], val=coeff)],\n",
    "            senses=[\"G\"],\n",
    "            rhs=[1],\n",
    "            names=[f'c_{i}']\n",
    "        )\n",
    "\n",
    "    # Configurando parâmetros do CPLEX\n",
    "    cpx.parameters.mip.strategy.heuristicfreq.set(-1)\n",
    "    cpx.parameters.mip.cuts.mircut.set(-1)\n",
    "    cpx.parameters.mip.cuts.implied.set(-1)\n",
    "    cpx.parameters.mip.cuts.gomory.set(-1)\n",
    "    cpx.parameters.mip.cuts.flowcovers.set(-1)\n",
    "    cpx.parameters.mip.cuts.pathcut.set(-1)\n",
    "    cpx.parameters.mip.cuts.liftproj.set(-1)\n",
    "    cpx.parameters.mip.cuts.zerohalfcut.set(-1)\n",
    "    cpx.parameters.mip.cuts.cliques.set(-1)\n",
    "    cpx.parameters.mip.cuts.covers.set(-1)\n",
    "    cpx.parameters.threads.set(1)\n",
    "    cpx.parameters.clocktype.set(1)\n",
    "    cpx.parameters.timelimit.set(1800)\n",
    "\n",
    "    # Escreve solução em um arquivo\n",
    "    cpx.write(\"setcover.lp\")\n",
    "\n",
    "    cpx.solve()\n",
    "\n",
    "    # Output da solução\n",
    "    status = cpx.solution.get_status()\n",
    "    progress = cpx.solution.progress.get_num_nodes_processed()\n",
    "    solution_values = cpx.solution.get_values()\n",
    "    objective_value = cpx.solution.get_objective_value()\n",
    "\n",
    "    print('Solution status:                   %d' % status)\n",
    "    print('Nodes processed:                   %d' %\n",
    "            progress)\n",
    "    tol = cpx.parameters.mip.tolerances.integrality.get()\n",
    "    print('Optimal value:                     %f' %\n",
    "          objective_value)\n",
    "    values = cpx.solution.get_values()\n",
    "    # for y in x:\n",
    "    #     if values[x[y]] >= 1 - tol:\n",
    "    #         print(\"x_\" + str(x[y]) + \"= \" + str(values[x[y]]))\n",
    "\n",
    "    return status, solution_values, objective_value"
   ]
  },
  {
   "cell_type": "code",
   "execution_count": null,
   "metadata": {},
   "outputs": [],
   "source": [
    "status, solution_values, targetFn_value = modelo_MIP(instance_name='scpb1')"
   ]
  },
  {
   "cell_type": "code",
   "execution_count": null,
   "metadata": {},
   "outputs": [],
   "source": [
    "print(f\"Colunas utilizadas na solução: {solution_values.count(1)}\")"
   ]
  },
  {
   "cell_type": "markdown",
   "metadata": {},
   "source": [
    "## Modelo com Relaxação Linear"
   ]
  },
  {
   "cell_type": "code",
   "execution_count": 5,
   "metadata": {},
   "outputs": [],
   "source": [
    "def modelo_LP(instance_name: str, show_output: bool = True):\n",
    "    \"\"\"\"\n",
    "    Modelo de relaxação linear para o problema de recobrimento de conjuntos.\n",
    "\n",
    "    Recebe uma instância no formato encontrado na ORLib e\n",
    "    implementa uma solução gulosa sem relaxações.\n",
    "    \"\"\"\n",
    "\n",
    "    cpx = cplex.Cplex()\n",
    "    cpx.objective.set_sense(cpx.objective.sense.minimize)\n",
    "\n",
    "    # Obtém e processa os dados da instância\n",
    "    # m = # linhas\n",
    "    # n = # colunas\n",
    "    # C = lista de custos para cada coluna\n",
    "    # J = conjunto de comprimento m de listas com as colunas que cobrem cada linha (J[i])\n",
    "\n",
    "    get_data(instance_url=f'http://people.brunel.ac.uk/~mastjjb/jeb/orlib/files/{instance_name}.txt')\n",
    "    m, n, C, J = parse_instance(instance_name=instance_name)\n",
    "\n",
    "    if not m:\n",
    "        print('Instance parsing failed.')\n",
    "        return\n",
    "\n",
    "    # Função objetivo, minimizar os custos (C)\n",
    "    cpx.variables.add(obj=C,\n",
    "                        lb=[0] * n, ub=[1] * n,\n",
    "                        types=[cpx.variables.type.continuous] * n,\n",
    "                        names=[f'x_{j}' for j in range(n)])\n",
    "\n",
    "    # Adiciona restrições para cada linha\n",
    "    for i in range(m):\n",
    "        coeff = [1]*len(J[i])\n",
    "        \n",
    "        # Linha i pode ser coberta pelas colunas em J[i]\n",
    "        # Toda linha deve ser coberta por pelo menos 1 coluna\n",
    "        cpx.linear_constraints.add(\n",
    "            lin_expr=[cplex.SparsePair(ind=J[i], val=coeff)],\n",
    "            senses=[\"G\"],\n",
    "            rhs=[1],\n",
    "            names=[f'c_{i}']\n",
    "        )\n",
    "\n",
    "    # Configurando parâmetros do CPLEX\n",
    "    cpx.parameters.mip.strategy.heuristicfreq.set(-1)\n",
    "    cpx.parameters.mip.cuts.mircut.set(-1)\n",
    "    cpx.parameters.mip.cuts.implied.set(-1)\n",
    "    cpx.parameters.mip.cuts.gomory.set(-1)\n",
    "    cpx.parameters.mip.cuts.flowcovers.set(-1)\n",
    "    cpx.parameters.mip.cuts.pathcut.set(-1)\n",
    "    cpx.parameters.mip.cuts.liftproj.set(-1)\n",
    "    cpx.parameters.mip.cuts.zerohalfcut.set(-1)\n",
    "    cpx.parameters.mip.cuts.cliques.set(-1)\n",
    "    cpx.parameters.mip.cuts.covers.set(-1)\n",
    "    cpx.parameters.threads.set(1)\n",
    "    cpx.parameters.clocktype.set(1)\n",
    "    cpx.parameters.timelimit.set(1800)\n",
    "\n",
    "    # Escreve solução em um arquivo\n",
    "\n",
    "    cpx.solve()\n",
    "\n",
    "    # Output da solução\n",
    "    status = cpx.solution.get_status()\n",
    "    progress = cpx.solution.progress.get_num_nodes_processed()\n",
    "    solution_values = cpx.solution.get_values()\n",
    "    objective_value = cpx.solution.get_objective_value()\n",
    "    \n",
    "    if show_output:\n",
    "        cpx.write(\"setcover_LP.lp\")\n",
    "        print('Solution status:                   %d' % status)\n",
    "        print('Nodes processed:                   %d' %\n",
    "                progress)\n",
    "        tol = cpx.parameters.mip.tolerances.integrality.get()\n",
    "        print('Optimal value:                     %f' %\n",
    "            objective_value)\n",
    "    values = cpx.solution.get_values()\n",
    "    # for y in x:\n",
    "    #     if values[x[y]] >= 1 - tol:\n",
    "    #         print(\"x_\" + str(x[y]) + \"= \" + str(values[x[y]]))\n",
    "\n",
    "    return status, solution_values, objective_value\n",
    "    "
   ]
  },
  {
   "cell_type": "code",
   "execution_count": null,
   "metadata": {},
   "outputs": [],
   "source": [
    "lp_solution, lp_solution_values, lp_targetFn_value = modelo_LP(instance_name=\"scp41\")"
   ]
  },
  {
   "cell_type": "markdown",
   "metadata": {},
   "source": [
    "### Valores médios para classes de benchmark\n",
    "\n",
    "Baseado nos resultados obtidos por Umetani e Yagiura (2007), realizamos múltiplos testes nas classes de benchmark para fins de comparação."
   ]
  },
  {
   "cell_type": "code",
   "execution_count": 45,
   "metadata": {},
   "outputs": [],
   "source": [
    "def benchmark_avg_LP(instance_class: str = \"4\"):\n",
    "    available = {'4', '5', '6', 'A', 'B', 'C', 'D', 'E', 'F', 'G', 'H'}\n",
    "    if instance_class not in available:\n",
    "        print(\"Esta classe de isntancias não foi encontrada. Classes disponíveis:\")\n",
    "        print(available)\n",
    "        return None\n",
    "\n",
    "    if instance_class == \"4\" or instance_class == \"5\":\n",
    "        class_size = 10\n",
    "    else:\n",
    "        class_size = 5\n",
    "\n",
    "    targetFn_values = []\n",
    "    for i in range(1,class_size+1):\n",
    "        _,_, target_val = modelo_LP(instance_name=f'scp{instance_class}{i}', show_output=False)\n",
    "        targetFn_values.append(target_val)\n",
    "\n",
    "    return np.average(np.array(targetFn_values))"
   ]
  },
  {
   "cell_type": "code",
   "execution_count": null,
   "metadata": {},
   "outputs": [],
   "source": [
    "benchmark_avg_LP(instance_class=\"6\")"
   ]
  },
  {
   "cell_type": "code",
   "execution_count": 52,
   "metadata": {},
   "outputs": [],
   "source": [
    "def benchmark_batch(classes):\n",
    "\n",
    "    for c in classes.keys():\n",
    "        classes[c] = benchmark_avg_LP(instance_class=c)\n",
    "\n",
    "    return classes"
   ]
  },
  {
   "cell_type": "code",
   "execution_count": null,
   "metadata": {},
   "outputs": [],
   "source": [
    "results = benchmark_batch(classes={'A':-1, 'B':-1, 'C':-1})"
   ]
  },
  {
   "cell_type": "code",
   "execution_count": null,
   "metadata": {},
   "outputs": [],
   "source": [
    "results"
   ]
  },
  {
   "cell_type": "markdown",
   "metadata": {},
   "source": [
    "Resultados condizentes com os encontrados nos benchmarks!"
   ]
  },
  {
   "cell_type": "markdown",
   "metadata": {},
   "source": [
    "## Modelo com Relaxação Lagrangeana"
   ]
  },
  {
   "cell_type": "code",
   "execution_count": 70,
   "metadata": {},
   "outputs": [],
   "source": [
    "def get_covering_matrix(instance_name: str):\n",
    "    \"\"\"\n",
    "    Retorna uma matriz de cobertura com dimentsões m x n, valores binários.\n",
    "    \"\"\"\n",
    "\n",
    "    m, n, C, J = parse_instance(instance_name=instance_name)\n",
    "\n",
    "    A = np.zeros((m, n), dtype=int)\n",
    "    for i, cols in enumerate(J):\n",
    "        for j in cols:\n",
    "            A[i][j] = 1\n",
    "    \n",
    "    return  m, n, C, J, A.tolist()\n"
   ]
  },
  {
   "cell_type": "code",
   "execution_count": null,
   "metadata": {},
   "outputs": [],
   "source": [
    "_,_,_,_, A = get_covering_matrix('scp41')\n",
    "print(len(A), ' x ', len(A[0]))"
   ]
  },
  {
   "cell_type": "code",
   "execution_count": null,
   "metadata": {},
   "outputs": [],
   "source": [
    "def subradient(instance_name: str, max_iters: int=1000, step_size: int=0.02):\n",
    "    \"\"\"\n",
    "    Método do subgradiente para obter os Multiplicadores de Lagrange\n",
    "    que serão usados no Subproblema Lagrangeano\n",
    "    \"\"\"\n",
    "    m, n, C, J, A = get_covering_matrix(instance_name=instance_name)\n",
    "    # Inicializando lista de multiplicadores de lagrange com zeros\n",
    "    u = [0] * m\n",
    "\n",
    "    \n",
    "    "
   ]
  },
  {
   "cell_type": "code",
   "execution_count": 6,
   "metadata": {},
   "outputs": [],
   "source": [
    "class Lagrangian_SPC():\n",
    "    \"\"\"\n",
    "    Classe que implementa métodos para o modelo de Relaxação Lagrangiana.\n",
    "    \"\"\"\n",
    "\n",
    "    def __init__(self, instance_name: str, ub=None) -> None:\n",
    "        self.instance_name = instance_name\n",
    "        self.m, self.n, self.costs, self.J = parse_instance(instance_name)\n",
    "        self.A = self.set_covering_matrix()\n",
    "        self.hist_lb = None\n",
    "        self.ub = (np.dot(self.costs, np.ones(self.n))) if ub is None else ub\n",
    "    \n",
    "    def set_covering_matrix(self):\n",
    "        \"\"\"\n",
    "        Retorna uma matriz de cobertura com dimentsões m x n, valores binários.\n",
    "        \"\"\"\n",
    "\n",
    "        self.A = np.zeros((self.m, self.n), dtype=int)\n",
    "        for i, cols in enumerate(self.J):\n",
    "            for j in cols:\n",
    "                self.A[i][j] = 1\n",
    "        self.A = self.A.tolist()\n",
    "\n",
    "        return  self.A\n",
    "    \n",
    "    def lagrangian_relaxation(self, u):\n",
    "        \"\"\"\n",
    "        Resolve a relaxação lagrangiana para o problema de recobrimento\n",
    "\n",
    "        Retorna:\n",
    "        z_lr (float): Lagrangian relaxation objective value.\n",
    "        x (list): Solution vector for LR(u).\n",
    "        \"\"\"\n",
    "\n",
    "        # Calcula os custos reduzidos c'_j(u) = c_j - sum(a_{ij} * u_i)\n",
    "        reduced_costs = np.array(self.costs) - np.dot(u, self.A)\n",
    "\n",
    "        x = np.zeros(self.n)\n",
    "        for j in range(self.n):\n",
    "            if reduced_costs[j] < 0:\n",
    "                x[j] = 1\n",
    "            # elif reduced_costs[j] == 0:\n",
    "            #     # Escolhe aleatoriamente entre 0 e 1 caso c'_j = 0\n",
    "            #     x[j] = np.random.choice([0, 1])\n",
    "\n",
    "        # Compute the Lagrangian relaxation objective value\n",
    "        subgrad = np.ones(self.m) - np.dot(self.A, x)\n",
    "        z_lr = np.dot(self.costs, x) + np.dot(u, subgrad)\n",
    "\n",
    "        return z_lr, x, subgrad\n",
    "    \n",
    "    def solve_lagrangian_dual(self, max_iters: int=1000, step_size=0.02, pi=2.0, plot=False, tolerance=0):\n",
    "        \"\"\"\n",
    "        Solves the Lagrangian Dual problem to find the best Lagrangian multipliers u.\n",
    "\n",
    "        Returns:\n",
    "        best_u (list): Optimal Lagrangian multipliers.\n",
    "        best_z (float): Optimal Lagrangian objective value.\n",
    "        best_x (list): Best solution vector.\n",
    "        \"\"\"\n",
    "\n",
    "        u = np.zeros(self.m)\n",
    "\n",
    "        best_u = u.copy()\n",
    "        best_z = -np.inf\n",
    "        best_x = None\n",
    "\n",
    "        no_update = 0\n",
    "        half = max_iters // 20\n",
    "        halved = 0\n",
    "        \n",
    "        if plot:\n",
    "            self.hist_lb = []\n",
    "\n",
    "        for _ in range(max_iters):\n",
    "            if no_update == half:\n",
    "                pi /= 2.0\n",
    "                no_update = 0\n",
    "                halved += 1\n",
    "                print(pi)\n",
    "                \n",
    "                if pi < tolerance:\n",
    "                    break\n",
    "\n",
    "            # Solve the Lagrangian relaxation for the current u\n",
    "            z_lr, x, subgrad = self.lagrangian_relaxation(u)\n",
    "\n",
    "            if plot:\n",
    "                self.hist_lb.append(z_lr)\n",
    "                \n",
    "            # Update the best solution found so far\n",
    "            if z_lr > best_z:\n",
    "                best_z = z_lr\n",
    "                best_u = u.copy()\n",
    "                best_x = x.copy()\n",
    "                no_update = 0\n",
    "            else:\n",
    "                no_update += 1\n",
    "            \n",
    "            if self.ub - z_lr < 1:\n",
    "                break\n",
    "                \n",
    "            # Adjust the Lagrangian multipliers based on the violation of constraints\n",
    "            T = pi * (self.ub - z_lr) / np.sum(np.square(subgrad)) # 1 - np.dot(self.A, x)\n",
    "            u = u + (1 + step_size) * T * subgrad\n",
    "            u = np.maximum(u, 0)  # Ensure u remains non-negative   \n",
    "        \n",
    "        if plot:\n",
    "            self.__plot()\n",
    "\n",
    "        return best_u, best_z, best_x\n",
    "    \n",
    "    def __plot(self):\n",
    "        fig = plt.figure(figsize=(16,9))\n",
    "        \n",
    "        iterations = range(1, len(self.hist_lb) + 1)\n",
    "    \n",
    "        plt.plot(iterations, self.hist_lb, label='Lower Bound $z_{LR}(u)$')\n",
    "        plt.title(\"Lagrangian Relaxation: Lower Bound over Iterations\", fontsize=16)\n",
    "        plt.xlabel(\"Iteration\", fontsize=14)\n",
    "        plt.ylabel(\"Lower Bound $z_{LR}(u)$\", fontsize=14)\n",
    "        plt.grid(True)\n",
    "        plt.legend(loc='best')\n",
    "        \n",
    "        plt.show()\n",
    "        "
   ]
  },
  {
   "cell_type": "code",
   "execution_count": 5,
   "metadata": {},
   "outputs": [
    {
     "name": "stdout",
     "output_type": "stream",
     "text": [
      "Data saved to scp41.txt\n",
      "Version identifier: 22.1.1.0 | 2022-11-28 | 9160aff4d\n",
      "CPXPARAM_ClockType                               1\n",
      "CPXPARAM_Read_DataCheck                          1\n",
      "CPXPARAM_Threads                                 1\n",
      "CPXPARAM_MIP_Cuts_Cliques                        -1\n",
      "CPXPARAM_MIP_Cuts_Covers                         -1\n",
      "CPXPARAM_MIP_Cuts_FlowCovers                     -1\n",
      "CPXPARAM_MIP_Cuts_Implied                        -1\n",
      "CPXPARAM_MIP_Cuts_Gomory                         -1\n",
      "CPXPARAM_MIP_Cuts_PathCut                        -1\n",
      "CPXPARAM_MIP_Cuts_MIRCut                         -1\n",
      "CPXPARAM_MIP_Cuts_ZeroHalfCut                    -1\n",
      "CPXPARAM_MIP_Cuts_LiftProj                       -1\n",
      "CPXPARAM_MIP_Strategy_HeuristicFreq              -1\n",
      "CPXPARAM_TimeLimit                               1800\n",
      "Tried aggregator 1 time.\n",
      "MIP Presolve eliminated 0 rows and 61 columns.\n",
      "Reduced MIP has 200 rows, 939 columns, and 3928 nonzeros.\n",
      "Reduced MIP has 939 binaries, 0 generals, 0 SOSs, and 0 indicators.\n",
      "Presolve time = 0.01 sec. (2.03 ticks)\n",
      "Probing time = 0.00 sec. (0.12 ticks)\n",
      "Tried aggregator 1 time.\n",
      "Detecting symmetries...\n",
      "Reduced MIP has 200 rows, 939 columns, and 3928 nonzeros.\n",
      "Reduced MIP has 939 binaries, 0 generals, 0 SOSs, and 0 indicators.\n",
      "Presolve time = 0.00 sec. (1.80 ticks)\n",
      "Probing time = 0.00 sec. (0.12 ticks)\n",
      "MIP emphasis: balance optimality and feasibility.\n",
      "MIP search method: dynamic search.\n",
      "Parallel mode: none, using 1 thread.\n",
      "Root relaxation solution time = 0.00 sec. (1.20 ticks)\n",
      "\n",
      "        Nodes                                         Cuts/\n",
      "   Node  Left     Objective  IInf  Best Integer    Best Bound    ItCnt     Gap\n",
      "\n",
      "*     0     0      integral     0      429.0000      429.0000      141    0.00%\n",
      "Elapsed time = 0.02 sec. (6.51 ticks, tree = 0.00 MB, solutions = 1)\n",
      "\n",
      "Root node processing (before b&c):\n",
      "  Real time             =    0.02 sec. (6.54 ticks)\n",
      "Sequential b&c:\n",
      "  Real time             =    0.00 sec. (0.00 ticks)\n",
      "                          ------------\n",
      "Total (root+branch&cut) =    0.02 sec. (6.54 ticks)\n",
      "Solution status:                   101\n",
      "Nodes processed:                   0\n",
      "Optimal value:                     429.000000\n"
     ]
    }
   ],
   "source": [
    "_,_,opt = modelo_MIP(instance_name='scp41')"
   ]
  },
  {
   "cell_type": "code",
   "execution_count": 9,
   "metadata": {},
   "outputs": [
    {
     "data": {
      "image/png": "[encoded data removed]",
      "text/plain": [
       "<Figure size 1600x900 with 1 Axes>"
      ]
     },
     "metadata": {},
     "output_type": "display_data"
    }
   ],
   "source": [
    "lag_scp = Lagrangian_SPC( instance_name='scpb1', ub=65)\n",
    "\n",
    "u, z, x = lag_scp.solve_lagrangian_dual(plot=True, tolerance=0)"
   ]
  },
  {
   "cell_type": "code",
   "execution_count": 7,
   "metadata": {},
   "outputs": [
    {
     "ename": "",
     "evalue": "",
     "output_type": "error",
     "traceback": [
      "\u001b[1;31mO Kernel deu pane ao executar o código na célula atual ou em uma célula anterior. \n",
      "\u001b[1;31mAnalise o código nas células para identificar uma possível causa da pane. \n",
      "\u001b[1;31mClique <a href='https://aka.ms/vscodeJupyterKernelCrash'>aqui</a> para obter mais informações. \n",
      "\u001b[1;31mConsulte Jupyter <a href='command:jupyter.viewOutput'>log</a> para obter mais detalhes."
     ]
    }
   ],
   "source": [
    "%matplotlib qt\n",
    "fig = plt.figure(figsize=(16,9))\n",
    "\n",
    "iterations = range(1, len(lag_scp.hist_lb) + 1)\n",
    "\n",
    "plt.plot(iterations, lag_scp.hist_lb, label='Lower Bound $z_{LR}(u)$')\n",
    "plt.title(\"Lagrangian Relaxation: Lower Bound over Iterations\", fontsize=16)\n",
    "plt.xlabel(\"Iteration\", fontsize=14)\n",
    "plt.ylabel(\"Lower Bound $z_{LR}(u)$\", fontsize=14)\n",
    "plt.grid(True)\n",
    "plt.legend(loc='best')\n",
    "\n",
    "plt.show()"
   ]
  },
  {
   "cell_type": "code",
   "execution_count": null,
   "metadata": {},
   "outputs": [],
   "source": []
  },
  {
   "cell_type": "code",
   "execution_count": null,
   "metadata": {},
   "outputs": [],
   "source": [
    "z"
   ]
  }
 ],
 "metadata": {
  "kernelspec": {
   "display_name": "Python 3",
   "language": "python",
   "name": "python3"
  },
  "language_info": {
   "codemirror_mode": {
    "name": "ipython",
    "version": 3
   },
   "file_extension": ".py",
   "mimetype": "text/x-python",
   "name": "python",
   "nbconvert_exporter": "python",
   "pygments_lexer": "ipython3",
   "version": "3.10.14"
  }
 },
 "nbformat": 4,
 "nbformat_minor": 2
}
